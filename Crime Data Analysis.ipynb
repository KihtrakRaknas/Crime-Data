{
 "cells": [
  {
   "cell_type": "markdown",
   "metadata": {},
   "source": [
    "# Crime Trends\n",
    "## By: Karthik Sankar\n",
    "This Jupyter Notebook will explore the some publicly available corona virus data. <br>\n",
    "Ideally, we want to see if there are any trends that indicate warmer weather will hurt the spread of the virus. Based on this a model that predicts how the rate of infection will change based on temperature could be used to predict how corona virus cases will behave come summer."
   ]
  },
  {
   "cell_type": "code",
   "execution_count": 1,
   "metadata": {},
   "outputs": [],
   "source": [
    "#Basic set up for Google BigQuery\n",
    "\n",
    "# Install the package with: pip install -e git+https://github.com/SohierDane/BigQuery_Helper#egg=bq_helper\n",
    "#!pip install -e git+https://github.com/SohierDane/BigQuery_Helper#egg=bq_helper\n",
    "\n",
    "#I've created an API key for this project and included it in the project folder.\n",
    "#To be clear, this is a bad idea. It is only included this way for this demo\n",
    "#https://cloud.google.com/docs/authentication/getting-started\n",
    "import os\n",
    "os.environ[\"GOOGLE_APPLICATION_CREDENTIALS\"]=\"Stack Overflow Project.json\"\n",
    "#!set GOOGLE_APPLICATION_CREDENTIALS=\"C:\\Users\\karth\\Documents\\MLprojects\\Stack Overflow\\Stack Overflow Project.json\""
   ]
  },
  {
   "cell_type": "code",
   "execution_count": 2,
   "metadata": {},
   "outputs": [
    {
     "data": {
      "text/plain": [
       "['crime']"
      ]
     },
     "execution_count": 2,
     "metadata": {},
     "output_type": "execute_result"
    }
   ],
   "source": [
    "#Import the stackoverflow dataset from Google BigQuery\n",
    "\n",
    "import bq_helper\n",
    "import numpy as np\n",
    "from bq_helper import BigQueryHelper\n",
    "import pandas as pd\n",
    "crime = bq_helper.BigQueryHelper(active_project=\"bigquery-public-data\", dataset_name=\"chicago_crime\")\n",
    "\n",
    "crime.list_tables()"
   ]
  },
  {
   "cell_type": "code",
   "execution_count": 3,
   "metadata": {},
   "outputs": [
    {
     "data": {
      "text/plain": [
       "10000"
      ]
     },
     "execution_count": 3,
     "metadata": {},
     "output_type": "execute_result"
    }
   ],
   "source": [
    "#Filter the useful datapoints from BigQuery and save them locally\n",
    "query_get_answers = \"\"\"Select *\n",
    "from `bigquery-public-data.chicago_crime.crime` as covid_data\n",
    "\n",
    "limit 10000\n",
    ";\n",
    "\n",
    "\"\"\"\n",
    "\n",
    "#where answers.owner_user_id Is NOT NULL and questions.owner_user_id is not NULL and questions.tags is NOT NULL \n",
    "#and Extract(Year from questions.creation_date)>2017 and Extract(Year from questions.creation_date)<2019\n",
    "\n",
    "crime_data = crime.query_to_pandas_safe(query_get_answers,30)\n",
    "crime_data.to_csv('crime_data_10000.csv', index=False)\n",
    "len(crime_data)"
   ]
  },
  {
   "cell_type": "code",
   "execution_count": 4,
   "metadata": {
    "scrolled": true
   },
   "outputs": [
    {
     "data": {
      "text/html": [
       "<div>\n",
       "<style scoped>\n",
       "    .dataframe tbody tr th:only-of-type {\n",
       "        vertical-align: middle;\n",
       "    }\n",
       "\n",
       "    .dataframe tbody tr th {\n",
       "        vertical-align: top;\n",
       "    }\n",
       "\n",
       "    .dataframe thead th {\n",
       "        text-align: right;\n",
       "    }\n",
       "</style>\n",
       "<table border=\"1\" class=\"dataframe\">\n",
       "  <thead>\n",
       "    <tr style=\"text-align: right;\">\n",
       "      <th></th>\n",
       "      <th>unique_key</th>\n",
       "      <th>case_number</th>\n",
       "      <th>date</th>\n",
       "      <th>block</th>\n",
       "      <th>iucr</th>\n",
       "      <th>primary_type</th>\n",
       "      <th>description</th>\n",
       "      <th>location_description</th>\n",
       "      <th>arrest</th>\n",
       "      <th>domestic</th>\n",
       "      <th>...</th>\n",
       "      <th>ward</th>\n",
       "      <th>community_area</th>\n",
       "      <th>fbi_code</th>\n",
       "      <th>x_coordinate</th>\n",
       "      <th>y_coordinate</th>\n",
       "      <th>year</th>\n",
       "      <th>updated_on</th>\n",
       "      <th>latitude</th>\n",
       "      <th>longitude</th>\n",
       "      <th>location</th>\n",
       "    </tr>\n",
       "  </thead>\n",
       "  <tbody>\n",
       "    <tr>\n",
       "      <th>0</th>\n",
       "      <td>11695039</td>\n",
       "      <td>JC272752</td>\n",
       "      <td>2019-05-21 14:35:00+00:00</td>\n",
       "      <td>008XX E 40TH ST</td>\n",
       "      <td>1153</td>\n",
       "      <td>DECEPTIVE PRACTICE</td>\n",
       "      <td>FINANCIAL IDENTITY THEFT OVER $ 300</td>\n",
       "      <td>None</td>\n",
       "      <td>False</td>\n",
       "      <td>False</td>\n",
       "      <td>...</td>\n",
       "      <td>4</td>\n",
       "      <td>36</td>\n",
       "      <td>11</td>\n",
       "      <td>1182394.0</td>\n",
       "      <td>1878378.0</td>\n",
       "      <td>2019</td>\n",
       "      <td>2019-06-30 15:56:27+00:00</td>\n",
       "      <td>41.821486</td>\n",
       "      <td>-87.606391</td>\n",
       "      <td>(41.821485998, -87.606391313)</td>\n",
       "    </tr>\n",
       "    <tr>\n",
       "      <th>1</th>\n",
       "      <td>11729910</td>\n",
       "      <td>JC315123</td>\n",
       "      <td>2019-06-20 21:43:00+00:00</td>\n",
       "      <td>001XX W SWANN ST</td>\n",
       "      <td>0470</td>\n",
       "      <td>PUBLIC PEACE VIOLATION</td>\n",
       "      <td>RECKLESS CONDUCT</td>\n",
       "      <td>ALLEY</td>\n",
       "      <td>True</td>\n",
       "      <td>False</td>\n",
       "      <td>...</td>\n",
       "      <td>3</td>\n",
       "      <td>37</td>\n",
       "      <td>24</td>\n",
       "      <td>1176057.0</td>\n",
       "      <td>1874110.0</td>\n",
       "      <td>2019</td>\n",
       "      <td>2019-06-30 15:56:27+00:00</td>\n",
       "      <td>41.809919</td>\n",
       "      <td>-87.629767</td>\n",
       "      <td>(41.809918997, -87.629766697)</td>\n",
       "    </tr>\n",
       "    <tr>\n",
       "      <th>2</th>\n",
       "      <td>10271478</td>\n",
       "      <td>HY459797</td>\n",
       "      <td>2015-10-12 23:45:00+00:00</td>\n",
       "      <td>034XX S WESTERN AVE</td>\n",
       "      <td>2022</td>\n",
       "      <td>NARCOTICS</td>\n",
       "      <td>POSS: COCAINE</td>\n",
       "      <td>ALLEY</td>\n",
       "      <td>True</td>\n",
       "      <td>False</td>\n",
       "      <td>...</td>\n",
       "      <td>12</td>\n",
       "      <td>59</td>\n",
       "      <td>18</td>\n",
       "      <td>1160928.0</td>\n",
       "      <td>1881603.0</td>\n",
       "      <td>2015</td>\n",
       "      <td>2018-02-10 15:50:01+00:00</td>\n",
       "      <td>41.830807</td>\n",
       "      <td>-87.685050</td>\n",
       "      <td>(41.830807149, -87.685050402)</td>\n",
       "    </tr>\n",
       "    <tr>\n",
       "      <th>3</th>\n",
       "      <td>10829818</td>\n",
       "      <td>JA131293</td>\n",
       "      <td>2017-01-26 19:50:00+00:00</td>\n",
       "      <td>037XX S WESTERN AVE</td>\n",
       "      <td>0920</td>\n",
       "      <td>MOTOR VEHICLE THEFT</td>\n",
       "      <td>ATT: AUTOMOBILE</td>\n",
       "      <td>PARKING LOT/GARAGE(NON.RESID.)</td>\n",
       "      <td>False</td>\n",
       "      <td>False</td>\n",
       "      <td>...</td>\n",
       "      <td>12</td>\n",
       "      <td>59</td>\n",
       "      <td>07</td>\n",
       "      <td>1160980.0</td>\n",
       "      <td>1879877.0</td>\n",
       "      <td>2017</td>\n",
       "      <td>2017-02-14 15:49:42+00:00</td>\n",
       "      <td>41.826070</td>\n",
       "      <td>-87.684907</td>\n",
       "      <td>(41.826069731, -87.684907409)</td>\n",
       "    </tr>\n",
       "    <tr>\n",
       "      <th>4</th>\n",
       "      <td>11025722</td>\n",
       "      <td>JA356747</td>\n",
       "      <td>2017-07-20 13:20:00+00:00</td>\n",
       "      <td>037XX S ARCHER AVE</td>\n",
       "      <td>1154</td>\n",
       "      <td>DECEPTIVE PRACTICE</td>\n",
       "      <td>FINANCIAL IDENTITY THEFT $300 AND UNDER</td>\n",
       "      <td>RESTAURANT</td>\n",
       "      <td>False</td>\n",
       "      <td>False</td>\n",
       "      <td>...</td>\n",
       "      <td>12</td>\n",
       "      <td>59</td>\n",
       "      <td>11</td>\n",
       "      <td>1160845.0</td>\n",
       "      <td>1879718.0</td>\n",
       "      <td>2017</td>\n",
       "      <td>2018-02-10 15:50:01+00:00</td>\n",
       "      <td>41.825636</td>\n",
       "      <td>-87.685407</td>\n",
       "      <td>(41.825636211, -87.685407095)</td>\n",
       "    </tr>\n",
       "  </tbody>\n",
       "</table>\n",
       "<p>5 rows × 22 columns</p>\n",
       "</div>"
      ],
      "text/plain": [
       "   unique_key case_number                      date                block  \\\n",
       "0    11695039    JC272752 2019-05-21 14:35:00+00:00      008XX E 40TH ST   \n",
       "1    11729910    JC315123 2019-06-20 21:43:00+00:00     001XX W SWANN ST   \n",
       "2    10271478    HY459797 2015-10-12 23:45:00+00:00  034XX S WESTERN AVE   \n",
       "3    10829818    JA131293 2017-01-26 19:50:00+00:00  037XX S WESTERN AVE   \n",
       "4    11025722    JA356747 2017-07-20 13:20:00+00:00   037XX S ARCHER AVE   \n",
       "\n",
       "   iucr            primary_type                              description  \\\n",
       "0  1153      DECEPTIVE PRACTICE      FINANCIAL IDENTITY THEFT OVER $ 300   \n",
       "1  0470  PUBLIC PEACE VIOLATION                         RECKLESS CONDUCT   \n",
       "2  2022               NARCOTICS                            POSS: COCAINE   \n",
       "3  0920     MOTOR VEHICLE THEFT                          ATT: AUTOMOBILE   \n",
       "4  1154      DECEPTIVE PRACTICE  FINANCIAL IDENTITY THEFT $300 AND UNDER   \n",
       "\n",
       "             location_description  arrest  domestic  ...  ward  \\\n",
       "0                            None   False     False  ...     4   \n",
       "1                           ALLEY    True     False  ...     3   \n",
       "2                           ALLEY    True     False  ...    12   \n",
       "3  PARKING LOT/GARAGE(NON.RESID.)   False     False  ...    12   \n",
       "4                      RESTAURANT   False     False  ...    12   \n",
       "\n",
       "   community_area  fbi_code  x_coordinate y_coordinate  year  \\\n",
       "0              36        11     1182394.0    1878378.0  2019   \n",
       "1              37        24     1176057.0    1874110.0  2019   \n",
       "2              59        18     1160928.0    1881603.0  2015   \n",
       "3              59        07     1160980.0    1879877.0  2017   \n",
       "4              59        11     1160845.0    1879718.0  2017   \n",
       "\n",
       "                 updated_on   latitude  longitude  \\\n",
       "0 2019-06-30 15:56:27+00:00  41.821486 -87.606391   \n",
       "1 2019-06-30 15:56:27+00:00  41.809919 -87.629767   \n",
       "2 2018-02-10 15:50:01+00:00  41.830807 -87.685050   \n",
       "3 2017-02-14 15:49:42+00:00  41.826070 -87.684907   \n",
       "4 2018-02-10 15:50:01+00:00  41.825636 -87.685407   \n",
       "\n",
       "                        location  \n",
       "0  (41.821485998, -87.606391313)  \n",
       "1  (41.809918997, -87.629766697)  \n",
       "2  (41.830807149, -87.685050402)  \n",
       "3  (41.826069731, -87.684907409)  \n",
       "4  (41.825636211, -87.685407095)  \n",
       "\n",
       "[5 rows x 22 columns]"
      ]
     },
     "execution_count": 4,
     "metadata": {},
     "output_type": "execute_result"
    }
   ],
   "source": [
    "crime_data.head()"
   ]
  },
  {
   "cell_type": "code",
   "execution_count": 5,
   "metadata": {
    "scrolled": false
   },
   "outputs": [
    {
     "name": "stdout",
     "output_type": "stream",
     "text": [
      "<class 'pandas.core.frame.DataFrame'>\n",
      "RangeIndex: 10000 entries, 0 to 9999\n",
      "Data columns (total 22 columns):\n",
      " #   Column                Non-Null Count  Dtype              \n",
      "---  ------                --------------  -----              \n",
      " 0   unique_key            10000 non-null  int64              \n",
      " 1   case_number           10000 non-null  object             \n",
      " 2   date                  10000 non-null  datetime64[ns, UTC]\n",
      " 3   block                 10000 non-null  object             \n",
      " 4   iucr                  10000 non-null  object             \n",
      " 5   primary_type          10000 non-null  object             \n",
      " 6   description           10000 non-null  object             \n",
      " 7   location_description  9941 non-null   object             \n",
      " 8   arrest                10000 non-null  bool               \n",
      " 9   domestic              10000 non-null  bool               \n",
      " 10  beat                  10000 non-null  int64              \n",
      " 11  district              10000 non-null  int64              \n",
      " 12  ward                  10000 non-null  int64              \n",
      " 13  community_area        10000 non-null  int64              \n",
      " 14  fbi_code              10000 non-null  object             \n",
      " 15  x_coordinate          9751 non-null   float64            \n",
      " 16  y_coordinate          9751 non-null   float64            \n",
      " 17  year                  10000 non-null  int64              \n",
      " 18  updated_on            10000 non-null  datetime64[ns, UTC]\n",
      " 19  latitude              9751 non-null   float64            \n",
      " 20  longitude             9751 non-null   float64            \n",
      " 21  location              9751 non-null   object             \n",
      "dtypes: bool(2), datetime64[ns, UTC](2), float64(4), int64(6), object(8)\n",
      "memory usage: 1.5+ MB\n"
     ]
    }
   ],
   "source": [
    "crime_data.info()"
   ]
  },
  {
   "cell_type": "markdown",
   "metadata": {},
   "source": [
    "## Cleaning the dataset\n",
    "Getting rid of extra attributes."
   ]
  },
  {
   "cell_type": "code",
   "execution_count": 6,
   "metadata": {},
   "outputs": [
    {
     "data": {
      "text/html": [
       "<div>\n",
       "<style scoped>\n",
       "    .dataframe tbody tr th:only-of-type {\n",
       "        vertical-align: middle;\n",
       "    }\n",
       "\n",
       "    .dataframe tbody tr th {\n",
       "        vertical-align: top;\n",
       "    }\n",
       "\n",
       "    .dataframe thead th {\n",
       "        text-align: right;\n",
       "    }\n",
       "</style>\n",
       "<table border=\"1\" class=\"dataframe\">\n",
       "  <thead>\n",
       "    <tr style=\"text-align: right;\">\n",
       "      <th></th>\n",
       "      <th>date</th>\n",
       "      <th>primary_type</th>\n",
       "      <th>description</th>\n",
       "      <th>location_description</th>\n",
       "      <th>arrest</th>\n",
       "      <th>domestic</th>\n",
       "      <th>community_area</th>\n",
       "      <th>year</th>\n",
       "      <th>latitude</th>\n",
       "      <th>longitude</th>\n",
       "    </tr>\n",
       "  </thead>\n",
       "  <tbody>\n",
       "    <tr>\n",
       "      <th>0</th>\n",
       "      <td>2019-05-21 14:35:00+00:00</td>\n",
       "      <td>DECEPTIVE PRACTICE</td>\n",
       "      <td>FINANCIAL IDENTITY THEFT OVER $ 300</td>\n",
       "      <td>None</td>\n",
       "      <td>False</td>\n",
       "      <td>False</td>\n",
       "      <td>36</td>\n",
       "      <td>2019</td>\n",
       "      <td>41.821486</td>\n",
       "      <td>-87.606391</td>\n",
       "    </tr>\n",
       "    <tr>\n",
       "      <th>1</th>\n",
       "      <td>2019-06-20 21:43:00+00:00</td>\n",
       "      <td>PUBLIC PEACE VIOLATION</td>\n",
       "      <td>RECKLESS CONDUCT</td>\n",
       "      <td>ALLEY</td>\n",
       "      <td>True</td>\n",
       "      <td>False</td>\n",
       "      <td>37</td>\n",
       "      <td>2019</td>\n",
       "      <td>41.809919</td>\n",
       "      <td>-87.629767</td>\n",
       "    </tr>\n",
       "    <tr>\n",
       "      <th>2</th>\n",
       "      <td>2015-10-12 23:45:00+00:00</td>\n",
       "      <td>NARCOTICS</td>\n",
       "      <td>POSS: COCAINE</td>\n",
       "      <td>ALLEY</td>\n",
       "      <td>True</td>\n",
       "      <td>False</td>\n",
       "      <td>59</td>\n",
       "      <td>2015</td>\n",
       "      <td>41.830807</td>\n",
       "      <td>-87.685050</td>\n",
       "    </tr>\n",
       "    <tr>\n",
       "      <th>3</th>\n",
       "      <td>2017-01-26 19:50:00+00:00</td>\n",
       "      <td>MOTOR VEHICLE THEFT</td>\n",
       "      <td>ATT: AUTOMOBILE</td>\n",
       "      <td>PARKING LOT/GARAGE(NON.RESID.)</td>\n",
       "      <td>False</td>\n",
       "      <td>False</td>\n",
       "      <td>59</td>\n",
       "      <td>2017</td>\n",
       "      <td>41.826070</td>\n",
       "      <td>-87.684907</td>\n",
       "    </tr>\n",
       "    <tr>\n",
       "      <th>4</th>\n",
       "      <td>2017-07-20 13:20:00+00:00</td>\n",
       "      <td>DECEPTIVE PRACTICE</td>\n",
       "      <td>FINANCIAL IDENTITY THEFT $300 AND UNDER</td>\n",
       "      <td>RESTAURANT</td>\n",
       "      <td>False</td>\n",
       "      <td>False</td>\n",
       "      <td>59</td>\n",
       "      <td>2017</td>\n",
       "      <td>41.825636</td>\n",
       "      <td>-87.685407</td>\n",
       "    </tr>\n",
       "  </tbody>\n",
       "</table>\n",
       "</div>"
      ],
      "text/plain": [
       "                       date            primary_type  \\\n",
       "0 2019-05-21 14:35:00+00:00      DECEPTIVE PRACTICE   \n",
       "1 2019-06-20 21:43:00+00:00  PUBLIC PEACE VIOLATION   \n",
       "2 2015-10-12 23:45:00+00:00               NARCOTICS   \n",
       "3 2017-01-26 19:50:00+00:00     MOTOR VEHICLE THEFT   \n",
       "4 2017-07-20 13:20:00+00:00      DECEPTIVE PRACTICE   \n",
       "\n",
       "                               description            location_description  \\\n",
       "0      FINANCIAL IDENTITY THEFT OVER $ 300                            None   \n",
       "1                         RECKLESS CONDUCT                           ALLEY   \n",
       "2                            POSS: COCAINE                           ALLEY   \n",
       "3                          ATT: AUTOMOBILE  PARKING LOT/GARAGE(NON.RESID.)   \n",
       "4  FINANCIAL IDENTITY THEFT $300 AND UNDER                      RESTAURANT   \n",
       "\n",
       "   arrest  domestic  community_area  year   latitude  longitude  \n",
       "0   False     False              36  2019  41.821486 -87.606391  \n",
       "1    True     False              37  2019  41.809919 -87.629767  \n",
       "2    True     False              59  2015  41.830807 -87.685050  \n",
       "3   False     False              59  2017  41.826070 -87.684907  \n",
       "4   False     False              59  2017  41.825636 -87.685407  "
      ]
     },
     "execution_count": 6,
     "metadata": {},
     "output_type": "execute_result"
    }
   ],
   "source": [
    "#delete extra columns\n",
    "crime_data = crime_data.drop(\"beat\", axis=\"columns\", errors=\"ignore\")\n",
    "crime_data = crime_data.drop(\"unique_key\", axis=\"columns\", errors=\"ignore\")\n",
    "crime_data = crime_data.drop(\"case_number\", axis=\"columns\", errors=\"ignore\")\n",
    "crime_data = crime_data.drop(\"block\", axis=\"columns\", errors=\"ignore\")\n",
    "crime_data = crime_data.drop(\"iucr\", axis=\"columns\", errors=\"ignore\")\n",
    "crime_data = crime_data.drop(\"updated_on\", axis=\"columns\", errors=\"ignore\")\n",
    "crime_data = crime_data.drop(\"location\", axis=\"columns\", errors=\"ignore\")\n",
    "crime_data = crime_data.drop(\"district\", axis=\"columns\", errors=\"ignore\")\n",
    "crime_data = crime_data.drop(\"ward\", axis=\"columns\", errors=\"ignore\")\n",
    "crime_data = crime_data.drop(\"fbi_code\", axis=\"columns\", errors=\"ignore\")\n",
    "crime_data = crime_data.drop(\"x_coordinate\", axis=\"columns\", errors=\"ignore\")#redundant\n",
    "crime_data = crime_data.drop(\"y_coordinate\", axis=\"columns\", errors=\"ignore\")#redundant\n",
    "crime_data.head()"
   ]
  },
  {
   "cell_type": "code",
   "execution_count": 7,
   "metadata": {},
   "outputs": [
    {
     "data": {
      "text/html": [
       "<div>\n",
       "<style scoped>\n",
       "    .dataframe tbody tr th:only-of-type {\n",
       "        vertical-align: middle;\n",
       "    }\n",
       "\n",
       "    .dataframe tbody tr th {\n",
       "        vertical-align: top;\n",
       "    }\n",
       "\n",
       "    .dataframe thead th {\n",
       "        text-align: right;\n",
       "    }\n",
       "</style>\n",
       "<table border=\"1\" class=\"dataframe\">\n",
       "  <thead>\n",
       "    <tr style=\"text-align: right;\">\n",
       "      <th></th>\n",
       "      <th>community_area</th>\n",
       "      <th>year</th>\n",
       "      <th>latitude</th>\n",
       "      <th>longitude</th>\n",
       "    </tr>\n",
       "  </thead>\n",
       "  <tbody>\n",
       "    <tr>\n",
       "      <th>count</th>\n",
       "      <td>10000.000000</td>\n",
       "      <td>10000.00000</td>\n",
       "      <td>9751.000000</td>\n",
       "      <td>9751.000000</td>\n",
       "    </tr>\n",
       "    <tr>\n",
       "      <th>mean</th>\n",
       "      <td>43.982800</td>\n",
       "      <td>2009.95660</td>\n",
       "      <td>41.798264</td>\n",
       "      <td>-87.664665</td>\n",
       "    </tr>\n",
       "    <tr>\n",
       "      <th>std</th>\n",
       "      <td>19.320239</td>\n",
       "      <td>5.37948</td>\n",
       "      <td>0.119115</td>\n",
       "      <td>0.093417</td>\n",
       "    </tr>\n",
       "    <tr>\n",
       "      <th>min</th>\n",
       "      <td>0.000000</td>\n",
       "      <td>2001.00000</td>\n",
       "      <td>36.619446</td>\n",
       "      <td>-91.686566</td>\n",
       "    </tr>\n",
       "    <tr>\n",
       "      <th>25%</th>\n",
       "      <td>34.000000</td>\n",
       "      <td>2005.00000</td>\n",
       "      <td>41.714758</td>\n",
       "      <td>-87.731860</td>\n",
       "    </tr>\n",
       "    <tr>\n",
       "      <th>50%</th>\n",
       "      <td>50.000000</td>\n",
       "      <td>2009.00000</td>\n",
       "      <td>41.781584</td>\n",
       "      <td>-87.657899</td>\n",
       "    </tr>\n",
       "    <tr>\n",
       "      <th>75%</th>\n",
       "      <td>57.000000</td>\n",
       "      <td>2015.00000</td>\n",
       "      <td>41.835529</td>\n",
       "      <td>-87.595484</td>\n",
       "    </tr>\n",
       "    <tr>\n",
       "      <th>max</th>\n",
       "      <td>74.000000</td>\n",
       "      <td>2020.00000</td>\n",
       "      <td>42.018841</td>\n",
       "      <td>-87.525161</td>\n",
       "    </tr>\n",
       "  </tbody>\n",
       "</table>\n",
       "</div>"
      ],
      "text/plain": [
       "       community_area         year     latitude    longitude\n",
       "count    10000.000000  10000.00000  9751.000000  9751.000000\n",
       "mean        43.982800   2009.95660    41.798264   -87.664665\n",
       "std         19.320239      5.37948     0.119115     0.093417\n",
       "min          0.000000   2001.00000    36.619446   -91.686566\n",
       "25%         34.000000   2005.00000    41.714758   -87.731860\n",
       "50%         50.000000   2009.00000    41.781584   -87.657899\n",
       "75%         57.000000   2015.00000    41.835529   -87.595484\n",
       "max         74.000000   2020.00000    42.018841   -87.525161"
      ]
     },
     "execution_count": 7,
     "metadata": {},
     "output_type": "execute_result"
    }
   ],
   "source": [
    "crime_data.describe()"
   ]
  },
  {
   "cell_type": "code",
   "execution_count": 8,
   "metadata": {
    "scrolled": true
   },
   "outputs": [],
   "source": [
    "#get rid of outliers\n",
    "crime_data = crime_data[crime_data.latitude!=None]\n",
    "crime_data = crime_data[crime_data.longitude!=None]\n",
    "crime_data = crime_data[crime_data.latitude>40]"
   ]
  },
  {
   "cell_type": "code",
   "execution_count": 9,
   "metadata": {},
   "outputs": [
    {
     "data": {
      "text/plain": [
       "<matplotlib.axes._subplots.AxesSubplot at 0x22472e277f0>"
      ]
     },
     "execution_count": 9,
     "metadata": {},
     "output_type": "execute_result"
    },
    {
     "data": {
      "image/png": "[encoded data removed]",
      "text/plain": [
       "<Figure size 432x288 with 1 Axes>"
      ]
     },
     "metadata": {
      "needs_background": "light"
     },
     "output_type": "display_data"
    }
   ],
   "source": [
    "crime_data.plot(kind=\"scatter\", x=\"longitude\", y=\"latitude\", alpha=0.1)"
   ]
  },
  {
   "cell_type": "markdown",
   "metadata": {},
   "source": [
    "Crime locations are very clustered. This leads me to believe location is a good predictor of crime"
   ]
  },
  {
   "cell_type": "code",
   "execution_count": 10,
   "metadata": {},
   "outputs": [],
   "source": [
    "#Cast booleans to integers\n",
    "crime_data[\"arrest\"] = crime_data[\"arrest\"]*1\n",
    "crime_data[\"domestic\"] = crime_data[\"domestic\"]*1"
   ]
  },
  {
   "cell_type": "code",
   "execution_count": 11,
   "metadata": {},
   "outputs": [],
   "source": [
    "#Convert community_area number to community name\n",
    "#Community names from: https://data.cityofchicago.org/Facilities-Geographic-Boundaries/Boundaries-Community-Areas-current-/cauq-8yn6\n",
    "#JS code to scrape values from above site:\n",
    "#var communityCode = {}\n",
    "#for(let row of document.getElementsByTagName(\"tr\"))\n",
    "#    if(row.getElementsByTagName(\"td\")[6])\n",
    "#        communityCode[Number(row.getElementsByTagName(\"td\")[7].innerText)] = row.getElementsByTagName(\"td\")[6].innerText\n",
    "\n",
    "import json \n",
    "look_up_key = [\"ROGERS PARK\",\"WEST RIDGE\",\"UPTOWN\",\"LINCOLN SQUARE\",\"NORTH CENTER\",\"LAKE VIEW\",\"LINCOLN PARK\",\"NEAR NORTH SIDE\",\"EDISON PARK\",\"NORWOOD PARK\",\"JEFFERSON PARK\",\"FOREST GLEN\",\"NORTH PARK\",\"ALBANY PARK\",\"PORTAGE PARK\",\"IRVING PARK\",\"DUNNING\",\"MONTCLARE\",\"BELMONT CRAGIN\",\"HERMOSA\",\"AVONDALE\",\"LOGAN SQUARE\",\"HUMBOLDT PARK\",\"WEST TOWN\",\"AUSTIN\",\"WEST GARFIELD PARK\",\"EAST GARFIELD PARK\",\"NEAR WEST SIDE\",\"NORTH LAWNDALE\",\"SOUTH LAWNDALE\",\"LOWER WEST SIDE\",\"LOOP\",\"NEAR SOUTH SIDE\",\"ARMOUR SQUARE\",\"DOUGLAS\",\"OAKLAND\",\"FULLER PARK\",\"GRAND BOULEVARD\",\"KENWOOD\",\"WASHINGTON PARK\",\"HYDE PARK\",\"WOODLAWN\",\"SOUTH SHORE\",\"CHATHAM\",\"AVALON PARK\",\"SOUTH CHICAGO\",\"BURNSIDE\",\"CALUMET HEIGHTS\",\"ROSELAND\",\"PULLMAN\",\"SOUTH DEERING\",\"EAST SIDE\",\"WEST PULLMAN\",\"RIVERDALE\",\"HEGEWISCH\",\"GARFIELD RIDGE\",\"ARCHER HEIGHTS\",\"BRIGHTON PARK\",\"MCKINLEY PARK\",\"BRIDGEPORT\",\"NEW CITY\",\"WEST ELSDON\",\"GAGE PARK\",\"CLEARING\",\"WEST LAWN\",\"CHICAGO LAWN\",\"WEST ENGLEWOOD\",\"ENGLEWOOD\",\"GREATER GRAND CROSSING\",\"ASHBURN\",\"AUBURN GRESHAM\",\"BEVERLY\",\"WASHINGTON HEIGHTS\",\"MOUNT GREENWOOD\",\"MORGAN PARK\",\"OHARE\",\"EDGEWATER\"]\n",
    "crime_data[\"community_area_name\"] = crime_data.apply(lambda row:\n",
    "    look_up_key[int(row[\"community_area\"])]\n",
    ", axis=1)"
   ]
  },
  {
   "cell_type": "code",
   "execution_count": 12,
   "metadata": {},
   "outputs": [],
   "source": [
    "#One-hot-encoding text\n",
    "crime_data_encoded = crime_data\n",
    "type_encoded = pd.get_dummies(crime_data_encoded.primary_type, prefix='primary_type')\n",
    "crime_data_encoded = pd.concat([crime_data_encoded, type_encoded], axis=1, sort=False)\n",
    "location_encoded = pd.get_dummies(crime_data_encoded.location_description, prefix='location_description')\n",
    "crime_data_encoded = pd.concat([crime_data_encoded, location_encoded], axis=1, sort=False)\n",
    "crime_data_encoded[\"aggravated\"] = crime_data_encoded.apply(lambda row: \n",
    "    (row[\"description\"].find(\"AGGRAVATED\")!=-1)*1\n",
    ", axis=1)\n",
    "community_encoded = pd.get_dummies(crime_data_encoded.community_area_name, prefix='community_area_name')\n",
    "crime_data_encoded = pd.concat([crime_data_encoded, community_encoded], axis=1, sort=False)"
   ]
  },
  {
   "cell_type": "code",
   "execution_count": 13,
   "metadata": {},
   "outputs": [
    {
     "data": {
      "text/html": [
       "<div>\n",
       "<style scoped>\n",
       "    .dataframe tbody tr th:only-of-type {\n",
       "        vertical-align: middle;\n",
       "    }\n",
       "\n",
       "    .dataframe tbody tr th {\n",
       "        vertical-align: top;\n",
       "    }\n",
       "\n",
       "    .dataframe thead th {\n",
       "        text-align: right;\n",
       "    }\n",
       "</style>\n",
       "<table border=\"1\" class=\"dataframe\">\n",
       "  <thead>\n",
       "    <tr style=\"text-align: right;\">\n",
       "      <th></th>\n",
       "      <th>date</th>\n",
       "      <th>primary_type</th>\n",
       "      <th>description</th>\n",
       "      <th>location_description</th>\n",
       "      <th>arrest</th>\n",
       "      <th>domestic</th>\n",
       "      <th>community_area</th>\n",
       "      <th>year</th>\n",
       "      <th>latitude</th>\n",
       "      <th>longitude</th>\n",
       "      <th>...</th>\n",
       "      <th>community_area_name_MORGAN PARK</th>\n",
       "      <th>community_area_name_NORTH PARK</th>\n",
       "      <th>community_area_name_NORWOOD PARK</th>\n",
       "      <th>community_area_name_ROGERS PARK</th>\n",
       "      <th>community_area_name_ROSELAND</th>\n",
       "      <th>community_area_name_SOUTH CHICAGO</th>\n",
       "      <th>community_area_name_SOUTH DEERING</th>\n",
       "      <th>community_area_name_WASHINGTON HEIGHTS</th>\n",
       "      <th>community_area_name_WEST LAWN</th>\n",
       "      <th>community_area_name_WEST PULLMAN</th>\n",
       "    </tr>\n",
       "  </thead>\n",
       "  <tbody>\n",
       "    <tr>\n",
       "      <th>0</th>\n",
       "      <td>2019-05-21 14:35:00+00:00</td>\n",
       "      <td>DECEPTIVE PRACTICE</td>\n",
       "      <td>FINANCIAL IDENTITY THEFT OVER $ 300</td>\n",
       "      <td>None</td>\n",
       "      <td>0</td>\n",
       "      <td>0</td>\n",
       "      <td>36</td>\n",
       "      <td>2019</td>\n",
       "      <td>41.821486</td>\n",
       "      <td>-87.606391</td>\n",
       "      <td>...</td>\n",
       "      <td>0</td>\n",
       "      <td>0</td>\n",
       "      <td>0</td>\n",
       "      <td>0</td>\n",
       "      <td>0</td>\n",
       "      <td>0</td>\n",
       "      <td>0</td>\n",
       "      <td>0</td>\n",
       "      <td>0</td>\n",
       "      <td>0</td>\n",
       "    </tr>\n",
       "    <tr>\n",
       "      <th>1</th>\n",
       "      <td>2019-06-20 21:43:00+00:00</td>\n",
       "      <td>PUBLIC PEACE VIOLATION</td>\n",
       "      <td>RECKLESS CONDUCT</td>\n",
       "      <td>ALLEY</td>\n",
       "      <td>1</td>\n",
       "      <td>0</td>\n",
       "      <td>37</td>\n",
       "      <td>2019</td>\n",
       "      <td>41.809919</td>\n",
       "      <td>-87.629767</td>\n",
       "      <td>...</td>\n",
       "      <td>0</td>\n",
       "      <td>0</td>\n",
       "      <td>0</td>\n",
       "      <td>0</td>\n",
       "      <td>0</td>\n",
       "      <td>0</td>\n",
       "      <td>0</td>\n",
       "      <td>0</td>\n",
       "      <td>0</td>\n",
       "      <td>0</td>\n",
       "    </tr>\n",
       "    <tr>\n",
       "      <th>2</th>\n",
       "      <td>2015-10-12 23:45:00+00:00</td>\n",
       "      <td>NARCOTICS</td>\n",
       "      <td>POSS: COCAINE</td>\n",
       "      <td>ALLEY</td>\n",
       "      <td>1</td>\n",
       "      <td>0</td>\n",
       "      <td>59</td>\n",
       "      <td>2015</td>\n",
       "      <td>41.830807</td>\n",
       "      <td>-87.685050</td>\n",
       "      <td>...</td>\n",
       "      <td>0</td>\n",
       "      <td>0</td>\n",
       "      <td>0</td>\n",
       "      <td>0</td>\n",
       "      <td>0</td>\n",
       "      <td>0</td>\n",
       "      <td>0</td>\n",
       "      <td>0</td>\n",
       "      <td>0</td>\n",
       "      <td>0</td>\n",
       "    </tr>\n",
       "    <tr>\n",
       "      <th>3</th>\n",
       "      <td>2017-01-26 19:50:00+00:00</td>\n",
       "      <td>MOTOR VEHICLE THEFT</td>\n",
       "      <td>ATT: AUTOMOBILE</td>\n",
       "      <td>PARKING LOT/GARAGE(NON.RESID.)</td>\n",
       "      <td>0</td>\n",
       "      <td>0</td>\n",
       "      <td>59</td>\n",
       "      <td>2017</td>\n",
       "      <td>41.826070</td>\n",
       "      <td>-87.684907</td>\n",
       "      <td>...</td>\n",
       "      <td>0</td>\n",
       "      <td>0</td>\n",
       "      <td>0</td>\n",
       "      <td>0</td>\n",
       "      <td>0</td>\n",
       "      <td>0</td>\n",
       "      <td>0</td>\n",
       "      <td>0</td>\n",
       "      <td>0</td>\n",
       "      <td>0</td>\n",
       "    </tr>\n",
       "    <tr>\n",
       "      <th>4</th>\n",
       "      <td>2017-07-20 13:20:00+00:00</td>\n",
       "      <td>DECEPTIVE PRACTICE</td>\n",
       "      <td>FINANCIAL IDENTITY THEFT $300 AND UNDER</td>\n",
       "      <td>RESTAURANT</td>\n",
       "      <td>0</td>\n",
       "      <td>0</td>\n",
       "      <td>59</td>\n",
       "      <td>2017</td>\n",
       "      <td>41.825636</td>\n",
       "      <td>-87.685407</td>\n",
       "      <td>...</td>\n",
       "      <td>0</td>\n",
       "      <td>0</td>\n",
       "      <td>0</td>\n",
       "      <td>0</td>\n",
       "      <td>0</td>\n",
       "      <td>0</td>\n",
       "      <td>0</td>\n",
       "      <td>0</td>\n",
       "      <td>0</td>\n",
       "      <td>0</td>\n",
       "    </tr>\n",
       "  </tbody>\n",
       "</table>\n",
       "<p>5 rows × 168 columns</p>\n",
       "</div>"
      ],
      "text/plain": [
       "                       date            primary_type  \\\n",
       "0 2019-05-21 14:35:00+00:00      DECEPTIVE PRACTICE   \n",
       "1 2019-06-20 21:43:00+00:00  PUBLIC PEACE VIOLATION   \n",
       "2 2015-10-12 23:45:00+00:00               NARCOTICS   \n",
       "3 2017-01-26 19:50:00+00:00     MOTOR VEHICLE THEFT   \n",
       "4 2017-07-20 13:20:00+00:00      DECEPTIVE PRACTICE   \n",
       "\n",
       "                               description            location_description  \\\n",
       "0      FINANCIAL IDENTITY THEFT OVER $ 300                            None   \n",
       "1                         RECKLESS CONDUCT                           ALLEY   \n",
       "2                            POSS: COCAINE                           ALLEY   \n",
       "3                          ATT: AUTOMOBILE  PARKING LOT/GARAGE(NON.RESID.)   \n",
       "4  FINANCIAL IDENTITY THEFT $300 AND UNDER                      RESTAURANT   \n",
       "\n",
       "   arrest  domestic  community_area  year   latitude  longitude  ...  \\\n",
       "0       0         0              36  2019  41.821486 -87.606391  ...   \n",
       "1       1         0              37  2019  41.809919 -87.629767  ...   \n",
       "2       1         0              59  2015  41.830807 -87.685050  ...   \n",
       "3       0         0              59  2017  41.826070 -87.684907  ...   \n",
       "4       0         0              59  2017  41.825636 -87.685407  ...   \n",
       "\n",
       "  community_area_name_MORGAN PARK  community_area_name_NORTH PARK  \\\n",
       "0                               0                               0   \n",
       "1                               0                               0   \n",
       "2                               0                               0   \n",
       "3                               0                               0   \n",
       "4                               0                               0   \n",
       "\n",
       "   community_area_name_NORWOOD PARK  community_area_name_ROGERS PARK  \\\n",
       "0                                 0                                0   \n",
       "1                                 0                                0   \n",
       "2                                 0                                0   \n",
       "3                                 0                                0   \n",
       "4                                 0                                0   \n",
       "\n",
       "   community_area_name_ROSELAND  community_area_name_SOUTH CHICAGO  \\\n",
       "0                             0                                  0   \n",
       "1                             0                                  0   \n",
       "2                             0                                  0   \n",
       "3                             0                                  0   \n",
       "4                             0                                  0   \n",
       "\n",
       "   community_area_name_SOUTH DEERING  community_area_name_WASHINGTON HEIGHTS  \\\n",
       "0                                  0                                       0   \n",
       "1                                  0                                       0   \n",
       "2                                  0                                       0   \n",
       "3                                  0                                       0   \n",
       "4                                  0                                       0   \n",
       "\n",
       "   community_area_name_WEST LAWN  community_area_name_WEST PULLMAN  \n",
       "0                              0                                 0  \n",
       "1                              0                                 0  \n",
       "2                              0                                 0  \n",
       "3                              0                                 0  \n",
       "4                              0                                 0  \n",
       "\n",
       "[5 rows x 168 columns]"
      ]
     },
     "execution_count": 13,
     "metadata": {},
     "output_type": "execute_result"
    }
   ],
   "source": [
    "crime_data_encoded.head()"
   ]
  },
  {
   "cell_type": "markdown",
   "metadata": {},
   "source": [
    "# Looking for patterns"
   ]
  },
  {
   "cell_type": "code",
   "execution_count": 14,
   "metadata": {
    "scrolled": false
   },
   "outputs": [
    {
     "data": {
      "image/png": "[encoded data removed]",
      "text/plain": [
       "<Figure size 1440x1080 with 6 Axes>"
      ]
     },
     "metadata": {
      "needs_background": "light"
     },
     "output_type": "display_data"
    }
   ],
   "source": [
    "#A histogram of every numerical column in stack_overflow_data\n",
    "#!pip install matplotlib\n",
    "%matplotlib inline\n",
    "import matplotlib.pyplot as plt\n",
    "crime_data.hist(bins=50, figsize=(20,15))\n",
    "plt.show()"
   ]
  },
  {
   "cell_type": "code",
   "execution_count": 15,
   "metadata": {
    "scrolled": false
   },
   "outputs": [
    {
     "data": {
      "image/png": "[encoded data removed]",
      "text/plain": [
       "<Figure size 864x576 with 36 Axes>"
      ]
     },
     "metadata": {
      "needs_background": "light"
     },
     "output_type": "display_data"
    }
   ],
   "source": [
    "from pandas.plotting import scatter_matrix\n",
    "scatter_matrix(crime_data, figsize=(12, 8)); #[attributes]"
   ]
  },
  {
   "cell_type": "markdown",
   "metadata": {},
   "source": [
    "This grid serves as a starting point<br>\n",
    "It reveals minimual correlation between the non one-hot-endcoded variables"
   ]
  },
  {
   "cell_type": "markdown",
   "metadata": {},
   "source": [
    "## ML Model to predict question - answer wait time"
   ]
  },
  {
   "cell_type": "code",
   "execution_count": 16,
   "metadata": {
    "scrolled": true
   },
   "outputs": [],
   "source": [
    "from sklearn.model_selection import train_test_split\n",
    "train_set, test_set = train_test_split(crime_data_encoded, test_size=0.2, random_state=42)"
   ]
  },
  {
   "cell_type": "code",
   "execution_count": 17,
   "metadata": {},
   "outputs": [
    {
     "data": {
      "text/plain": [
       "arrest                                           1.000000\n",
       "primary_type_NARCOTICS                           0.441648\n",
       "primary_type_LIQUOR LAW VIOLATION                0.156068\n",
       "primary_type_INTERFERENCE WITH PUBLIC OFFICER    0.138716\n",
       "location_description_STREET                      0.134310\n",
       "                                                   ...   \n",
       "primary_type_CRIMINAL DAMAGE                    -0.112030\n",
       "primary_type_THEFT                              -0.123983\n",
       "primary_type_MOTOR VEHICLE THEFT                -0.131214\n",
       "primary_type_DECEPTIVE PRACTICE                 -0.157256\n",
       "location_description_RESIDENCE                  -0.178187\n",
       "Name: arrest, Length: 163, dtype: float64"
      ]
     },
     "execution_count": 17,
     "metadata": {},
     "output_type": "execute_result"
    }
   ],
   "source": [
    "corr_matrix = crime_data_encoded.corr()\n",
    "corr_matrix[\"arrest\"].sort_values(ascending=False)"
   ]
  },
  {
   "cell_type": "markdown",
   "metadata": {},
   "source": [
    "This shows that crimes involving narcotic have a higher chance of leading to an arrest"
   ]
  },
  {
   "cell_type": "code",
   "execution_count": 18,
   "metadata": {},
   "outputs": [
    {
     "data": {
      "text/html": [
       "<div>\n",
       "<style scoped>\n",
       "    .dataframe tbody tr th:only-of-type {\n",
       "        vertical-align: middle;\n",
       "    }\n",
       "\n",
       "    .dataframe tbody tr th {\n",
       "        vertical-align: top;\n",
       "    }\n",
       "\n",
       "    .dataframe thead th {\n",
       "        text-align: right;\n",
       "    }\n",
       "</style>\n",
       "<table border=\"1\" class=\"dataframe\">\n",
       "  <thead>\n",
       "    <tr style=\"text-align: right;\">\n",
       "      <th></th>\n",
       "      <th>date</th>\n",
       "      <th>primary_type</th>\n",
       "      <th>description</th>\n",
       "      <th>location_description</th>\n",
       "      <th>arrest</th>\n",
       "      <th>domestic</th>\n",
       "      <th>community_area</th>\n",
       "      <th>year</th>\n",
       "      <th>latitude</th>\n",
       "      <th>longitude</th>\n",
       "      <th>...</th>\n",
       "      <th>community_area_name_MORGAN PARK</th>\n",
       "      <th>community_area_name_NORTH PARK</th>\n",
       "      <th>community_area_name_NORWOOD PARK</th>\n",
       "      <th>community_area_name_ROGERS PARK</th>\n",
       "      <th>community_area_name_ROSELAND</th>\n",
       "      <th>community_area_name_SOUTH CHICAGO</th>\n",
       "      <th>community_area_name_SOUTH DEERING</th>\n",
       "      <th>community_area_name_WASHINGTON HEIGHTS</th>\n",
       "      <th>community_area_name_WEST LAWN</th>\n",
       "      <th>community_area_name_WEST PULLMAN</th>\n",
       "    </tr>\n",
       "  </thead>\n",
       "  <tbody>\n",
       "    <tr>\n",
       "      <th>7253</th>\n",
       "      <td>2020-03-29 12:00:00+00:00</td>\n",
       "      <td>DECEPTIVE PRACTICE</td>\n",
       "      <td>ATTEMPT - FINANCIAL IDENTITY THEFT</td>\n",
       "      <td>RESIDENCE</td>\n",
       "      <td>0</td>\n",
       "      <td>0</td>\n",
       "      <td>72</td>\n",
       "      <td>2020</td>\n",
       "      <td>41.711858</td>\n",
       "      <td>-87.680101</td>\n",
       "      <td>...</td>\n",
       "      <td>0</td>\n",
       "      <td>0</td>\n",
       "      <td>0</td>\n",
       "      <td>0</td>\n",
       "      <td>0</td>\n",
       "      <td>0</td>\n",
       "      <td>0</td>\n",
       "      <td>1</td>\n",
       "      <td>0</td>\n",
       "      <td>0</td>\n",
       "    </tr>\n",
       "    <tr>\n",
       "      <th>5597</th>\n",
       "      <td>2012-05-15 09:00:00+00:00</td>\n",
       "      <td>DECEPTIVE PRACTICE</td>\n",
       "      <td>ILLEGAL USE CASH CARD</td>\n",
       "      <td>BANK</td>\n",
       "      <td>0</td>\n",
       "      <td>0</td>\n",
       "      <td>45</td>\n",
       "      <td>2012</td>\n",
       "      <td>41.737408</td>\n",
       "      <td>-87.585639</td>\n",
       "      <td>...</td>\n",
       "      <td>0</td>\n",
       "      <td>0</td>\n",
       "      <td>0</td>\n",
       "      <td>0</td>\n",
       "      <td>0</td>\n",
       "      <td>1</td>\n",
       "      <td>0</td>\n",
       "      <td>0</td>\n",
       "      <td>0</td>\n",
       "      <td>0</td>\n",
       "    </tr>\n",
       "    <tr>\n",
       "      <th>5173</th>\n",
       "      <td>2006-11-25 12:18:47+00:00</td>\n",
       "      <td>ROBBERY</td>\n",
       "      <td>ATTEMPT: STRONGARM-NO WEAPON</td>\n",
       "      <td>STREET</td>\n",
       "      <td>0</td>\n",
       "      <td>0</td>\n",
       "      <td>45</td>\n",
       "      <td>2006</td>\n",
       "      <td>41.750944</td>\n",
       "      <td>-87.594262</td>\n",
       "      <td>...</td>\n",
       "      <td>0</td>\n",
       "      <td>0</td>\n",
       "      <td>0</td>\n",
       "      <td>0</td>\n",
       "      <td>0</td>\n",
       "      <td>1</td>\n",
       "      <td>0</td>\n",
       "      <td>0</td>\n",
       "      <td>0</td>\n",
       "      <td>0</td>\n",
       "    </tr>\n",
       "    <tr>\n",
       "      <th>4754</th>\n",
       "      <td>2017-10-23 23:30:00+00:00</td>\n",
       "      <td>ROBBERY</td>\n",
       "      <td>AGGRAVATED VEHICULAR HIJACKING</td>\n",
       "      <td>STREET</td>\n",
       "      <td>0</td>\n",
       "      <td>0</td>\n",
       "      <td>34</td>\n",
       "      <td>2017</td>\n",
       "      <td>41.854070</td>\n",
       "      <td>-87.634404</td>\n",
       "      <td>...</td>\n",
       "      <td>0</td>\n",
       "      <td>0</td>\n",
       "      <td>0</td>\n",
       "      <td>0</td>\n",
       "      <td>0</td>\n",
       "      <td>0</td>\n",
       "      <td>0</td>\n",
       "      <td>0</td>\n",
       "      <td>0</td>\n",
       "      <td>0</td>\n",
       "    </tr>\n",
       "    <tr>\n",
       "      <th>7448</th>\n",
       "      <td>2008-08-05 11:55:00+00:00</td>\n",
       "      <td>BATTERY</td>\n",
       "      <td>AGGRAVATED DOMESTIC BATTERY: OTHER DANG WEAPON</td>\n",
       "      <td>PARKING LOT/GARAGE(NON.RESID.)</td>\n",
       "      <td>0</td>\n",
       "      <td>1</td>\n",
       "      <td>37</td>\n",
       "      <td>2008</td>\n",
       "      <td>41.794556</td>\n",
       "      <td>-87.630577</td>\n",
       "      <td>...</td>\n",
       "      <td>0</td>\n",
       "      <td>0</td>\n",
       "      <td>0</td>\n",
       "      <td>0</td>\n",
       "      <td>0</td>\n",
       "      <td>0</td>\n",
       "      <td>0</td>\n",
       "      <td>0</td>\n",
       "      <td>0</td>\n",
       "      <td>0</td>\n",
       "    </tr>\n",
       "  </tbody>\n",
       "</table>\n",
       "<p>5 rows × 168 columns</p>\n",
       "</div>"
      ],
      "text/plain": [
       "                          date        primary_type  \\\n",
       "7253 2020-03-29 12:00:00+00:00  DECEPTIVE PRACTICE   \n",
       "5597 2012-05-15 09:00:00+00:00  DECEPTIVE PRACTICE   \n",
       "5173 2006-11-25 12:18:47+00:00             ROBBERY   \n",
       "4754 2017-10-23 23:30:00+00:00             ROBBERY   \n",
       "7448 2008-08-05 11:55:00+00:00             BATTERY   \n",
       "\n",
       "                                         description  \\\n",
       "7253              ATTEMPT - FINANCIAL IDENTITY THEFT   \n",
       "5597                           ILLEGAL USE CASH CARD   \n",
       "5173                    ATTEMPT: STRONGARM-NO WEAPON   \n",
       "4754                  AGGRAVATED VEHICULAR HIJACKING   \n",
       "7448  AGGRAVATED DOMESTIC BATTERY: OTHER DANG WEAPON   \n",
       "\n",
       "                location_description  arrest  domestic  community_area  year  \\\n",
       "7253                       RESIDENCE       0         0              72  2020   \n",
       "5597                            BANK       0         0              45  2012   \n",
       "5173                          STREET       0         0              45  2006   \n",
       "4754                          STREET       0         0              34  2017   \n",
       "7448  PARKING LOT/GARAGE(NON.RESID.)       0         1              37  2008   \n",
       "\n",
       "       latitude  longitude  ... community_area_name_MORGAN PARK  \\\n",
       "7253  41.711858 -87.680101  ...                               0   \n",
       "5597  41.737408 -87.585639  ...                               0   \n",
       "5173  41.750944 -87.594262  ...                               0   \n",
       "4754  41.854070 -87.634404  ...                               0   \n",
       "7448  41.794556 -87.630577  ...                               0   \n",
       "\n",
       "      community_area_name_NORTH PARK  community_area_name_NORWOOD PARK  \\\n",
       "7253                               0                                 0   \n",
       "5597                               0                                 0   \n",
       "5173                               0                                 0   \n",
       "4754                               0                                 0   \n",
       "7448                               0                                 0   \n",
       "\n",
       "      community_area_name_ROGERS PARK  community_area_name_ROSELAND  \\\n",
       "7253                                0                             0   \n",
       "5597                                0                             0   \n",
       "5173                                0                             0   \n",
       "4754                                0                             0   \n",
       "7448                                0                             0   \n",
       "\n",
       "      community_area_name_SOUTH CHICAGO  community_area_name_SOUTH DEERING  \\\n",
       "7253                                  0                                  0   \n",
       "5597                                  1                                  0   \n",
       "5173                                  1                                  0   \n",
       "4754                                  0                                  0   \n",
       "7448                                  0                                  0   \n",
       "\n",
       "      community_area_name_WASHINGTON HEIGHTS  community_area_name_WEST LAWN  \\\n",
       "7253                                       1                              0   \n",
       "5597                                       0                              0   \n",
       "5173                                       0                              0   \n",
       "4754                                       0                              0   \n",
       "7448                                       0                              0   \n",
       "\n",
       "      community_area_name_WEST PULLMAN  \n",
       "7253                                 0  \n",
       "5597                                 0  \n",
       "5173                                 0  \n",
       "4754                                 0  \n",
       "7448                                 0  \n",
       "\n",
       "[5 rows x 168 columns]"
      ]
     },
     "execution_count": 18,
     "metadata": {},
     "output_type": "execute_result"
    }
   ],
   "source": [
    "train_set.head()"
   ]
  },
  {
   "cell_type": "code",
   "execution_count": 19,
   "metadata": {},
   "outputs": [
    {
     "name": "stdout",
     "output_type": "stream",
     "text": [
      "domestic, primary_type_ARSON, primary_type_ASSAULT, primary_type_BATTERY, primary_type_BURGLARY, primary_type_CONCEALED CARRY LICENSE VIOLATION, primary_type_CRIM SEXUAL ASSAULT, primary_type_CRIMINAL DAMAGE, primary_type_CRIMINAL SEXUAL ASSAULT, primary_type_CRIMINAL TRESPASS, primary_type_DECEPTIVE PRACTICE, primary_type_GAMBLING, primary_type_HOMICIDE, primary_type_INTERFERENCE WITH PUBLIC OFFICER, primary_type_INTIMIDATION, primary_type_KIDNAPPING, primary_type_LIQUOR LAW VIOLATION, primary_type_MOTOR VEHICLE THEFT, primary_type_NARCOTICS, primary_type_NON-CRIMINAL (SUBJECT SPECIFIED), primary_type_OBSCENITY, primary_type_OFFENSE INVOLVING CHILDREN, primary_type_OTHER NARCOTIC VIOLATION, primary_type_OTHER OFFENSE, primary_type_PROSTITUTION, primary_type_PUBLIC INDECENCY, primary_type_PUBLIC PEACE VIOLATION, primary_type_ROBBERY, primary_type_SEX OFFENSE, primary_type_STALKING, primary_type_THEFT, primary_type_WEAPONS VIOLATION, location_description_ABANDONED BUILDING, location_description_AIRCRAFT, location_description_AIRPORT EXTERIOR - NON-SECURE AREA, location_description_AIRPORT/AIRCRAFT, location_description_ALLEY, location_description_ANIMAL HOSPITAL, location_description_APARTMENT, location_description_APPLIANCE STORE, location_description_ATHLETIC CLUB, location_description_ATM (AUTOMATIC TELLER MACHINE), location_description_AUTO, location_description_BANK, location_description_BAR OR TAVERN, location_description_BARBERSHOP, location_description_BASEMENT, location_description_BOWLING ALLEY, location_description_CAR WASH, location_description_CEMETARY, location_description_CHA APARTMENT, location_description_CHA HALLWAY/STAIRWELL/ELEVATOR, location_description_CHA PARKING LOT / GROUNDS, location_description_CHA PARKING LOT/GROUNDS, location_description_CHURCH/SYNAGOGUE/PLACE OF WORSHIP, location_description_CLEANING STORE, location_description_COIN OPERATED MACHINE, location_description_COLLEGE/UNIVERSITY GROUNDS, location_description_COLLEGE/UNIVERSITY RESIDENCE HALL, location_description_COMMERCIAL / BUSINESS OFFICE, location_description_CONSTRUCTION SITE, location_description_CONVENIENCE STORE, location_description_CREDIT UNION, location_description_CTA BUS, location_description_CTA BUS STOP, location_description_CTA GARAGE / OTHER PROPERTY, location_description_CTA PLATFORM, location_description_CTA STATION, location_description_CTA TRAIN, location_description_CURRENCY EXCHANGE, location_description_DAY CARE CENTER, location_description_DELIVERY TRUCK, location_description_DEPARTMENT STORE, location_description_DRIVEWAY - RESIDENTIAL, location_description_DRUG STORE, location_description_FACTORY/MANUFACTURING BUILDING, location_description_FEDERAL BUILDING, location_description_FIRE STATION, location_description_FOREST PRESERVE, location_description_GAS STATION, location_description_GOVERNMENT BUILDING/PROPERTY, location_description_GROCERY FOOD STORE, location_description_HIGHWAY/EXPRESSWAY, location_description_HOSPITAL BUILDING / GROUNDS, location_description_HOSPITAL BUILDING/GROUNDS, location_description_HOTEL/MOTEL, location_description_HOUSE, location_description_JAIL / LOCK-UP FACILITY, location_description_LAKEFRONT/WATERFRONT/RIVERBANK, location_description_LIBRARY, location_description_MEDICAL/DENTAL OFFICE, location_description_MOVIE HOUSE/THEATER, location_description_NEWSSTAND, location_description_NURSING HOME/RETIREMENT HOME, location_description_OFFICE, location_description_OTHER, location_description_OTHER (SPECIFY), location_description_OTHER COMMERCIAL TRANSPORTATION, location_description_OTHER RAILROAD PROP / TRAIN DEPOT, location_description_PARK PROPERTY, location_description_PARKING LOT / GARAGE (NON RESIDENTIAL), location_description_PARKING LOT/GARAGE(NON.RESID.), location_description_POLICE FACILITY / VEHICLE PARKING LOT, location_description_POLICE FACILITY/VEH PARKING LOT, location_description_POOL ROOM, location_description_PORCH, location_description_RESIDENCE, location_description_RESIDENCE - PORCH / HALLWAY, location_description_RESIDENCE - YARD (FRONT / BACK), location_description_RESIDENCE PORCH/HALLWAY, location_description_RESIDENCE-GARAGE, location_description_RESIDENTIAL YARD (FRONT/BACK), location_description_RESTAURANT, location_description_SAVINGS AND LOAN, location_description_SCHOOL - PRIVATE BUILDING, location_description_SCHOOL - PUBLIC BUILDING, location_description_SCHOOL - PUBLIC GROUNDS, location_description_SCHOOL, PRIVATE, BUILDING, location_description_SCHOOL, PRIVATE, GROUNDS, location_description_SCHOOL, PUBLIC, BUILDING, location_description_SCHOOL, PUBLIC, GROUNDS, location_description_SIDEWALK, location_description_SMALL RETAIL STORE, location_description_SPORTS ARENA/STADIUM, location_description_STREET, location_description_TAVERN/LIQUOR STORE, location_description_TAXICAB, location_description_VACANT LOT/LAND, location_description_VEHICLE - OTHER RIDE SERVICE, location_description_VEHICLE - OTHER RIDE SHARE SERVICE (E.G., UBER, LYFT), location_description_VEHICLE NON-COMMERCIAL, location_description_VEHICLE-COMMERCIAL, location_description_WAREHOUSE, location_description_YARD, aggravated, community_area_name_ALBANY PARK, community_area_name_BELMONT CRAGIN, community_area_name_BRIDGEPORT, community_area_name_BRIGHTON PARK, community_area_name_CALUMET HEIGHTS, community_area_name_DOUGLAS, community_area_name_FOREST GLEN, community_area_name_FULLER PARK, community_area_name_GAGE PARK, community_area_name_GARFIELD RIDGE, community_area_name_GRAND BOULEVARD, community_area_name_HEGEWISCH, community_area_name_JEFFERSON PARK, community_area_name_MORGAN PARK, community_area_name_NORTH PARK, community_area_name_NORWOOD PARK, community_area_name_ROGERS PARK, community_area_name_ROSELAND, community_area_name_SOUTH CHICAGO, community_area_name_SOUTH DEERING, community_area_name_WASHINGTON HEIGHTS, community_area_name_WEST LAWN, community_area_name_WEST PULLMAN\n"
     ]
    }
   ],
   "source": [
    "crime_data_inputs = train_set\n",
    "crime_data_inputs = crime_data_inputs.drop(\"year\", axis=1) \n",
    "crime_data_inputs = crime_data_inputs.drop(\"date\", axis=1)\n",
    "crime_data_inputs = crime_data_inputs.drop(\"latitude\", axis=1)\n",
    "crime_data_inputs = crime_data_inputs.drop(\"longitude\", axis=1)\n",
    "crime_data_inputs = crime_data_inputs.drop(\"community_area\", axis=1)\n",
    "\n",
    "\n",
    "#getting rid of non - numerical datapoints\n",
    "crime_data_inputs = crime_data_inputs.drop(\"primary_type\", axis=1)\n",
    "crime_data_inputs = crime_data_inputs.drop(\"description\", axis=1)\n",
    "crime_data_inputs = crime_data_inputs.drop(\"location_description\", axis=1)\n",
    "crime_data_inputs = crime_data_inputs.drop(\"community_area_name\", axis=1)\n",
    "\n",
    "\n",
    "\n",
    "crime_data_outputs = train_set[\"arrest\"].copy()\n",
    "crime_data_inputs = crime_data_inputs.drop(\"arrest\", axis=1)\n",
    "\n",
    "print(\", \".join(crime_data_inputs.columns))"
   ]
  },
  {
   "cell_type": "markdown",
   "metadata": {},
   "source": [
    "### Using LinearRegression"
   ]
  },
  {
   "cell_type": "code",
   "execution_count": 20,
   "metadata": {},
   "outputs": [
    {
     "data": {
      "text/plain": [
       "LinearRegression(copy_X=True, fit_intercept=True, n_jobs=None, normalize=False)"
      ]
     },
     "execution_count": 20,
     "metadata": {},
     "output_type": "execute_result"
    }
   ],
   "source": [
    "from sklearn.linear_model import LinearRegression\n",
    "lin_reg = LinearRegression()\n",
    "lin_reg.fit(crime_data_inputs, crime_data_outputs)"
   ]
  },
  {
   "cell_type": "code",
   "execution_count": 21,
   "metadata": {},
   "outputs": [
    {
     "name": "stdout",
     "output_type": "stream",
     "text": [
      "Scores: [3.67794980e+08 1.10214038e+10 5.35133548e+10 8.34881917e+11\n",
      " 2.53170894e+10 8.55469097e+08 5.53601768e+11 5.84334116e+11\n",
      " 3.79648504e-01 8.27856371e+09]\n",
      "Mean: 207217147673.9915\n",
      "Standard deviation: 303192205757.75085\n"
     ]
    }
   ],
   "source": [
    "from sklearn.model_selection import cross_val_score\n",
    "scores = cross_val_score(lin_reg, crime_data_inputs, crime_data_outputs, scoring=\"neg_mean_squared_error\", cv=10)\n",
    "rmse_scores = np.sqrt(-scores)\n",
    "\n",
    "print(\"Scores:\", rmse_scores)\n",
    "print(\"Mean:\", rmse_scores.mean())\n",
    "print(\"Standard deviation:\", rmse_scores.std())"
   ]
  },
  {
   "cell_type": "markdown",
   "metadata": {},
   "source": [
    "Thats an insanly large diviation. I will have to explore other models.\n",
    "LinearRegression does not seem to handle one-hot-encoding well."
   ]
  },
  {
   "cell_type": "markdown",
   "metadata": {},
   "source": [
    "### Using DecisionTreeRegressor"
   ]
  },
  {
   "cell_type": "code",
   "execution_count": 22,
   "metadata": {},
   "outputs": [
    {
     "data": {
      "text/plain": [
       "DecisionTreeRegressor(ccp_alpha=0.0, criterion='mse', max_depth=None,\n",
       "                      max_features=None, max_leaf_nodes=None,\n",
       "                      min_impurity_decrease=0.0, min_impurity_split=None,\n",
       "                      min_samples_leaf=1, min_samples_split=2,\n",
       "                      min_weight_fraction_leaf=0.0, presort='deprecated',\n",
       "                      random_state=None, splitter='best')"
      ]
     },
     "execution_count": 22,
     "metadata": {},
     "output_type": "execute_result"
    }
   ],
   "source": [
    "from sklearn.tree import DecisionTreeRegressor\n",
    "tree_reg = DecisionTreeRegressor()\n",
    "tree_reg.fit(crime_data_inputs, crime_data_outputs)"
   ]
  },
  {
   "cell_type": "code",
   "execution_count": 23,
   "metadata": {},
   "outputs": [
    {
     "name": "stdout",
     "output_type": "stream",
     "text": [
      "Scores: [0.44078592 0.42782745 0.42581215 0.40363617 0.4150803  0.41866916\n",
      " 0.44527299 0.42831016 0.45561861 0.42458933]\n",
      "Mean: 0.4285602239845823\n",
      "Standard deviation: 0.014441641846172687\n"
     ]
    }
   ],
   "source": [
    "from sklearn.model_selection import cross_val_score\n",
    "scores = cross_val_score(tree_reg, crime_data_inputs, crime_data_outputs, scoring=\"neg_mean_squared_error\", cv=10)\n",
    "rmse_scores = np.sqrt(-scores)\n",
    "\n",
    "print(\"Scores:\", rmse_scores)\n",
    "print(\"Mean:\", rmse_scores.mean())\n",
    "print(\"Standard deviation:\", rmse_scores.std())"
   ]
  },
  {
   "cell_type": "markdown",
   "metadata": {},
   "source": [
    "Much less error than LinearRegression"
   ]
  },
  {
   "cell_type": "markdown",
   "metadata": {},
   "source": [
    "### Using RandomForestRegressor"
   ]
  },
  {
   "cell_type": "code",
   "execution_count": 24,
   "metadata": {},
   "outputs": [
    {
     "data": {
      "text/plain": [
       "RandomForestRegressor(bootstrap=True, ccp_alpha=0.0, criterion='mse',\n",
       "                      max_depth=None, max_features='auto', max_leaf_nodes=None,\n",
       "                      max_samples=None, min_impurity_decrease=0.0,\n",
       "                      min_impurity_split=None, min_samples_leaf=1,\n",
       "                      min_samples_split=2, min_weight_fraction_leaf=0.0,\n",
       "                      n_estimators=100, n_jobs=None, oob_score=False,\n",
       "                      random_state=None, verbose=0, warm_start=False)"
      ]
     },
     "execution_count": 24,
     "metadata": {},
     "output_type": "execute_result"
    }
   ],
   "source": [
    "from sklearn.ensemble import RandomForestRegressor\n",
    "forest_reg = RandomForestRegressor()\n",
    "forest_reg.fit(crime_data_inputs, crime_data_outputs)"
   ]
  },
  {
   "cell_type": "code",
   "execution_count": null,
   "metadata": {},
   "outputs": [],
   "source": [
    "from sklearn.model_selection import cross_val_score\n",
    "scores = cross_val_score(forest_reg, crime_data_inputs, crime_data_outputs, scoring=\"neg_mean_squared_error\", cv=10)\n",
    "rmse_scores = np.sqrt(-scores)\n",
    "\n",
    "print(\"Scores:\", rmse_scores)\n",
    "print(\"Mean:\", rmse_scores.mean())\n",
    "print(\"Standard deviation:\", rmse_scores.std())"
   ]
  },
  {
   "cell_type": "markdown",
   "metadata": {},
   "source": [
    "## The RandomForestRegressor has the lowest root mean square error so it will be the choosen model\n",
    "Fine tuning the model with a grid search"
   ]
  },
  {
   "cell_type": "code",
   "execution_count": null,
   "metadata": {
    "scrolled": true
   },
   "outputs": [],
   "source": [
    "#Test various hyper parameters and compare them with each other\n",
    "from sklearn.model_selection import GridSearchCV\n",
    "param_grid = [\n",
    "    {'n_estimators': [1, 3, 10, 15, 20, 25, 30, 35], 'max_features': [1,2,3,4]},\n",
    "    {'bootstrap': [False], 'n_estimators': [1, 3, 10, 20, 30, 35], 'max_features': [1,2,3,4]},  \n",
    "]\n",
    "\n",
    "forest_reg = RandomForestRegressor()\n",
    "grid_search = GridSearchCV(forest_reg, param_grid, cv=5, scoring='neg_mean_squared_error')\n",
    "grid_search.fit(crime_data_inputs, crime_data_outputs)"
   ]
  },
  {
   "cell_type": "code",
   "execution_count": null,
   "metadata": {},
   "outputs": [],
   "source": [
    "#Print the results of all the other tested hyperparameters\n",
    "cvres = grid_search.cv_results_\n",
    "for mean_score, params in zip(cvres[\"mean_test_score\"], cvres[\"params\"]):\n",
    "    print(np.sqrt(-mean_score), params)"
   ]
  },
  {
   "cell_type": "code",
   "execution_count": null,
   "metadata": {},
   "outputs": [],
   "source": [
    "#Get hyperparameters that result in the lowest error\n",
    "grid_search.best_params_"
   ]
  },
  {
   "cell_type": "code",
   "execution_count": null,
   "metadata": {},
   "outputs": [],
   "source": [
    "#Create the model best on the best hyper parameters\n",
    "final_model = grid_search.best_estimator_"
   ]
  },
  {
   "cell_type": "markdown",
   "metadata": {},
   "source": [
    "## Testing the final model with the test set\n",
    "\n",
    "This set has not been shown to any model until now"
   ]
  },
  {
   "cell_type": "code",
   "execution_count": null,
   "metadata": {},
   "outputs": [],
   "source": [
    "#Clean test set in the same way as training set\n",
    "\n",
    "crime_data_inputs_test = test_set\n",
    "crime_data_inputs_test = crime_data_inputs_test.drop(\"year\", axis=1) \n",
    "crime_data_inputs_test = crime_data_inputs_test.drop(\"date\", axis=1)\n",
    "crime_data_inputs_test = crime_data_inputs_test.drop(\"latitude\", axis=1)\n",
    "crime_data_inputs_test = crime_data_inputs_test.drop(\"longitude\", axis=1)\n",
    "crime_data_inputs_test = crime_data_inputs_test.drop(\"community_area\", axis=1)\n",
    "\n",
    "#getting rid of non - numerical datapoints\n",
    "crime_data_inputs_test = crime_data_inputs_test.drop(\"primary_type\", axis=1)\n",
    "crime_data_inputs_test = crime_data_inputs_test.drop(\"description\", axis=1)\n",
    "crime_data_inputs_test = crime_data_inputs_test.drop(\"location_description\", axis=1)\n",
    "crime_data_inputs_test = crime_data_inputs_test.drop(\"community_area_name\", axis=1)\n",
    "\n",
    "\n",
    "\n",
    "crime_data_outputs_test = test_set[\"arrest\"].copy()\n",
    "crime_data_inputs_test = crime_data_inputs_test.drop(\"arrest\", axis=1)\n",
    "\n",
    "\n",
    "crime_data_inputs_test"
   ]
  },
  {
   "cell_type": "code",
   "execution_count": null,
   "metadata": {},
   "outputs": [],
   "source": [
    "#Find the error with the final model\n",
    "from sklearn.metrics import mean_squared_error\n",
    "\n",
    "final_predictions = final_model.predict(crime_data_inputs_test)\n",
    "final_mse = mean_squared_error(crime_data_outputs_test, final_predictions)\n",
    "final_rmse = np.sqrt(final_mse)\n",
    "final_rmse "
   ]
  },
  {
   "cell_type": "code",
   "execution_count": null,
   "metadata": {},
   "outputs": [],
   "source": [
    "#Function that takes advantage of model to make predictions\n",
    "\n",
    "def predictOddsOfArrest(domestic,aggravated,typeOfCrime,areaName,locationDesc):\n",
    "    input = pd.DataFrame(columns=crime_data_inputs_test.columns)\n",
    "    input = input.append({'domestic':domestic*1, 'aggravated':aggravated*1, 'primary_type_'+typeOfCrime.upper():1, 'location_description_'+locationDesc.upper():1, 'community_area_name_'+areaName.upper():1}, ignore_index=True)\n",
    "    input = input.fillna(0)\n",
    "    return final_model.predict(input)[0]"
   ]
  },
  {
   "cell_type": "markdown",
   "metadata": {},
   "source": [
    "# Here is a prediction function that uses the model trained above\n",
    "## It returns the chances that the crime will result in an arrest\n",
    "### Parameters: was the crime domestic (true or false), was the crime aggravated (true or false), type of crime , name of the area, police description of the area"
   ]
  },
  {
   "cell_type": "code",
   "execution_count": null,
   "metadata": {},
   "outputs": [],
   "source": [
    "predictOddsOfArrest(True, True, \"narcotics\",\"South Chicago\",\"residence\")"
   ]
  },
  {
   "cell_type": "code",
   "execution_count": null,
   "metadata": {},
   "outputs": [],
   "source": [
    "predictOddsOfArrest(True, False, \"narcotics\",\"South Chicago\",\"residence\")"
   ]
  },
  {
   "cell_type": "code",
   "execution_count": null,
   "metadata": {},
   "outputs": [],
   "source": [
    "predictOddsOfArrest(False, True, \"narcotics\",\"South Chicago\",\"residence\")"
   ]
  },
  {
   "cell_type": "code",
   "execution_count": null,
   "metadata": {},
   "outputs": [],
   "source": [
    "predictOddsOfArrest(False, True, \"theft\",\"South Chicago\",\"residence\")"
   ]
  },
  {
   "cell_type": "code",
   "execution_count": null,
   "metadata": {},
   "outputs": [],
   "source": [
    "predictOddsOfArrest(False, True, \"deceptive practice\",\"South Chicago\",\"residence\")"
   ]
  },
  {
   "cell_type": "code",
   "execution_count": null,
   "metadata": {},
   "outputs": [],
   "source": []
  }
 ],
 "metadata": {
  "kernelspec": {
   "display_name": "Python 3",
   "language": "python",
   "name": "python3"
  },
  "language_info": {
   "codemirror_mode": {
    "name": "ipython",
    "version": 3
   },
   "file_extension": ".py",
   "mimetype": "text/x-python",
   "name": "python",
   "nbconvert_exporter": "python",
   "pygments_lexer": "ipython3",
   "version": "3.7.0"
  }
 },
 "nbformat": 4,
 "nbformat_minor": 2
}
